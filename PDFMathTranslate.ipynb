{
  "cells": [
    {
      "cell_type": "markdown",
      "metadata": {},
      "source": [
        "# 논문 번역"
      ]
    },
    {
      "cell_type": "code",
      "execution_count": null,
      "metadata": {
        "colab": {
          "base_uri": "https://localhost:8080/"
        },
        "collapsed": true,
        "id": "FCwuky6kUOcI",
        "outputId": "b711137d-e03a-4dc1-8ade-dd403d4b99ce"
      },
      "outputs": [],
      "source": [
        "!pip install git+https://github.com/Byaidu/PDFMathTranslate.git"
      ]
    },
    {
      "cell_type": "code",
      "execution_count": null,
      "metadata": {
        "colab": {
          "base_uri": "https://localhost:8080/"
        },
        "collapsed": true,
        "id": "9T2GQ8G9V4RM",
        "outputId": "9f661d0b-e4dd-4ad8-848e-8198460265df"
      },
      "outputs": [],
      "source": [
        "!pip install pdf2zh"
      ]
    },
    {
      "cell_type": "code",
      "execution_count": null,
      "metadata": {
        "colab": {
          "base_uri": "https://localhost:8080/"
        },
        "id": "VgMdhhb_Ub_Q",
        "outputId": "47ccc7a3-2ccf-404b-9d99-84622bad90e3"
      },
      "outputs": [],
      "source": [
        "from google.colab import drive\n",
        "drive.mount('/content/drive')"
      ]
    },
    {
      "cell_type": "code",
      "execution_count": null,
      "metadata": {
        "colab": {
          "base_uri": "https://localhost:8080/"
        },
        "id": "p_SGTog0WGzK",
        "outputId": "022bc7b7-e82e-474c-d925-7c469a17c085"
      },
      "outputs": [],
      "source": [
        "!pdf2zh /content/drive/MyDrive/논문.pdf -li en -lo ko"
      ]
    }
  ],
  "metadata": {
    "accelerator": "GPU",
    "colab": {
      "gpuType": "T4",
      "machine_shape": "hm",
      "provenance": []
    },
    "kernelspec": {
      "display_name": "Python 3",
      "name": "python3"
    },
    "language_info": {
      "name": "python"
    }
  },
  "nbformat": 4,
  "nbformat_minor": 0
}
